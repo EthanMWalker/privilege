{
 "metadata": {
  "language_info": {
   "codemirror_mode": {
    "name": "ipython",
    "version": 3
   },
   "file_extension": ".py",
   "mimetype": "text/x-python",
   "name": "python",
   "nbconvert_exporter": "python",
   "pygments_lexer": "ipython3",
   "version": "3.8.2-final"
  },
  "orig_nbformat": 2,
  "kernelspec": {
   "name": "python_defaultSpec_1599179448576",
   "display_name": "Python 3.8.2 64-bit"
  }
 },
 "nbformat": 4,
 "nbformat_minor": 2,
 "cells": [
  {
   "cell_type": "code",
   "execution_count": 1,
   "metadata": {},
   "outputs": [],
   "source": [
    "import numpy as np\n",
    "import matplotlib.pyplot as plt\n",
    "from multiprocessing import Pool"
   ]
  },
  {
   "cell_type": "code",
   "execution_count": 2,
   "metadata": {},
   "outputs": [],
   "source": [
    "def get_candidates(n):\n",
    "    candidates = np.zeros((n,4))\n",
    "\n",
    "    candidates[:,3] = np.arange(n)\n",
    "\n",
    "    candidates[:,:2] = np.random.random((n,2))\n",
    "    return candidates\n",
    "\n",
    "def get_scores(candidates, bias):\n",
    "    candidates[:,2] = bias*candidates[:,0] + (1-bias)*candidates[:,1]\n",
    "    return candidates\n",
    "\n",
    "def refine_candidates(candidates, percentile, num_left):\n",
    "    n = candidates.shape[0]\n",
    "    m = np.ceil(n*(1-percentile)).astype(int)\n",
    "    mask = candidates[:,2].argsort()[-m:]\n",
    "    mask = np.random.choice(mask, num_left, replace=False)\n",
    "    return candidates[mask]"
   ]
  },
  {
   "cell_type": "code",
   "execution_count": 3,
   "metadata": {
    "tags": []
   },
   "outputs": [
    {
     "output_type": "stream",
     "name": "stderr",
     "text": "ERROR:root:Internal Python error in the inspect module.\nBelow is the traceback from this internal error.\n\nTraceback (most recent call last):\n  File \"/usr/lib/python3/dist-packages/IPython/core/interactiveshell.py\", line 3331, in run_code\n    exec(code_obj, self.user_global_ns, self.user_ns)\n  File \"<ipython-input-3-a5580613f277>\", line 49, in <module>\n    plt.savefig('refined_means_against_bias')\n  File \"/home/ethan/.local/lib/python3.8/site-packages/matplotlib/pyplot.py\", line 723, in savefig\n    res = fig.savefig(*args, **kwargs)\n  File \"/home/ethan/.local/lib/python3.8/site-packages/matplotlib/figure.py\", line 2203, in savefig\n    self.canvas.print_figure(fname, **kwargs)\n  File \"/home/ethan/.local/lib/python3.8/site-packages/matplotlib/backend_bases.py\", line 2098, in print_figure\n    result = print_method(\n  File \"/home/ethan/.local/lib/python3.8/site-packages/matplotlib/backends/backend_agg.py\", line 535, in print_png\n    with cbook.open_file_cm(filename_or_obj, \"wb\") as fh:\n  File \"/usr/lib/python3.8/contextlib.py\", line 113, in __enter__\n    return next(self.gen)\n  File \"/home/ethan/.local/lib/python3.8/site-packages/matplotlib/cbook/__init__.py\", line 418, in open_file_cm\n    fh, opened = to_filehandle(path_or_file, mode, True, encoding)\n  File \"/home/ethan/.local/lib/python3.8/site-packages/matplotlib/cbook/__init__.py\", line 403, in to_filehandle\n    fh = open(fname, flag, encoding=encoding)\nOSError: [Errno 5] Input/output error: 'refined_means_against_bias.png'\n\nDuring handling of the above exception, another exception occurred:\n\nTraceback (most recent call last):\n  File \"/usr/lib/python3/dist-packages/IPython/core/interactiveshell.py\", line 2044, in showtraceback\n    stb = value._render_traceback_()\nAttributeError: 'OSError' object has no attribute '_render_traceback_'\n\nDuring handling of the above exception, another exception occurred:\n\nTraceback (most recent call last):\n  File \"/usr/lib/python3/dist-packages/IPython/core/ultratb.py\", line 1148, in get_records\n    return _fixed_getinnerframes(etb, number_of_lines_of_context, tb_offset)\n  File \"/usr/lib/python3/dist-packages/IPython/core/ultratb.py\", line 316, in wrapped\n    return f(*args, **kwargs)\n  File \"/usr/lib/python3/dist-packages/IPython/core/ultratb.py\", line 350, in _fixed_getinnerframes\n    records = fix_frame_records_filenames(inspect.getinnerframes(etb, context))\n  File \"/usr/lib/python3.8/inspect.py\", line 1503, in getinnerframes\n    frameinfo = (tb.tb_frame,) + getframeinfo(tb, context)\n  File \"/usr/lib/python3.8/inspect.py\", line 1461, in getframeinfo\n    filename = getsourcefile(frame) or getfile(frame)\n  File \"/usr/lib/python3.8/inspect.py\", line 708, in getsourcefile\n    if getattr(getmodule(object, filename), '__loader__', None) is not None:\n  File \"/usr/lib/python3.8/inspect.py\", line 737, in getmodule\n    file = getabsfile(object, _filename)\n  File \"/usr/lib/python3.8/inspect.py\", line 721, in getabsfile\n    return os.path.normcase(os.path.abspath(_filename))\n  File \"/usr/lib/python3.8/posixpath.py\", line 379, in abspath\n    cwd = os.getcwd()\nFileNotFoundError: [Errno 2] No such file or directory\n"
    },
    {
     "output_type": "error",
     "ename": "OSError",
     "evalue": "[Errno 5] Input/output error: 'refined_means_against_bias.png'",
     "traceback": [
      "\u001b[0;31m---------------------------------------------------------------------------\u001b[0m"
     ]
    }
   ],
   "source": [
    "n = 100\n",
    "\n",
    "mean_priv = np.zeros(n)\n",
    "mean_work = np.zeros(n)\n",
    "privileged = np.zeros(n)\n",
    "biases = np.linspace(0,.5,n)\n",
    "    \n",
    "def simulation(bias):\n",
    "    work = 0\n",
    "    priv = 0\n",
    "    perc = 0\n",
    "    m = 1000\n",
    "    for j in range(m):\n",
    "        candidates = get_candidates(int(3.7e6))\n",
    "        candidates = get_scores(candidates,bias)\n",
    "        refinement = refine_candidates(candidates, .9, 33824)\n",
    "\n",
    "        bias_top = refinement[:,2].argsort()[-1085:]\n",
    "        work_top = candidates[:,1].argsort()[-1085:]\n",
    "\n",
    "        work += refinement[bias_top][:,1].mean()\n",
    "        priv += refinement[bias_top][:,0].mean()\n",
    "\n",
    "        bias_ids = refinement[bias_top][:,3]\n",
    "        work_ids = candidates[work_top][:,3]\n",
    "        perc += 1 - len(np.intersect1d(bias_ids,work_ids))/1085\n",
    "\n",
    "    mean_work = work/m\n",
    "    mean_priv  = priv/m\n",
    "    privileged  = perc/m\n",
    "    return mean_work, mean_priv, privileged\n",
    "\n",
    "with Pool(16) as p:\n",
    "    temp = p.map(simulation, biases)\n",
    "\n",
    "temp = np.array(temp)\n",
    "\n",
    "mean_work = temp[:,0]\n",
    "mean_priv = temp[:,1]\n",
    "privileged = temp[:,2]\n",
    "\n",
    "\n",
    "plt.plot(biases, mean_work, label='mean hard work',lw=1.3)\n",
    "plt.plot(biases, mean_priv, label='mean privilege',lw=1.3)\n",
    "plt.legend()\n",
    "plt.title('The privilege and hard work of those that got in')\n",
    "plt.xlabel('how much does privilege count')\n",
    "plt.ylabel('mean score')\n",
    "plt.savefig('refined_means_against_bias')\n",
    "plt.show()\n",
    "\n",
    "plt.plot(biases, privileged, label='percent privileged')\n",
    "plt.xlabel('how much does privilege count')\n",
    "plt.ylabel('percent admitted because of privilege')\n",
    "plt.title('How many got in because of privilege')\n",
    "plt.legend()\n",
    "plt.savefig('refined_percent_privileged')\n",
    "plt.show()"
   ]
  },
  {
   "cell_type": "code",
   "execution_count": 10,
   "metadata": {
    "tags": []
   },
   "outputs": [
    {
     "output_type": "stream",
     "name": "stderr",
     "text": "ERROR:root:Internal Python error in the inspect module.\nBelow is the traceback from this internal error.\n\nTraceback (most recent call last):\n  File \"/usr/lib/python3/dist-packages/IPython/core/interactiveshell.py\", line 3331, in run_code\n    exec(code_obj, self.user_global_ns, self.user_ns)\n  File \"<ipython-input-10-8ea6206abac0>\", line 2, in <module>\n    with open('~/refined_data.pickle', 'wb') as out:\nFileNotFoundError: [Errno 2] No such file or directory: '~/refined_data.pickle'\n\nDuring handling of the above exception, another exception occurred:\n\nTraceback (most recent call last):\n  File \"/usr/lib/python3/dist-packages/IPython/core/interactiveshell.py\", line 2044, in showtraceback\n    stb = value._render_traceback_()\nAttributeError: 'FileNotFoundError' object has no attribute '_render_traceback_'\n\nDuring handling of the above exception, another exception occurred:\n\nTraceback (most recent call last):\n  File \"/usr/lib/python3/dist-packages/IPython/core/ultratb.py\", line 1148, in get_records\n    return _fixed_getinnerframes(etb, number_of_lines_of_context, tb_offset)\n  File \"/usr/lib/python3/dist-packages/IPython/core/ultratb.py\", line 316, in wrapped\n    return f(*args, **kwargs)\n  File \"/usr/lib/python3/dist-packages/IPython/core/ultratb.py\", line 350, in _fixed_getinnerframes\n    records = fix_frame_records_filenames(inspect.getinnerframes(etb, context))\n  File \"/usr/lib/python3.8/inspect.py\", line 1503, in getinnerframes\n    frameinfo = (tb.tb_frame,) + getframeinfo(tb, context)\n  File \"/usr/lib/python3.8/inspect.py\", line 1461, in getframeinfo\n    filename = getsourcefile(frame) or getfile(frame)\n  File \"/usr/lib/python3.8/inspect.py\", line 708, in getsourcefile\n    if getattr(getmodule(object, filename), '__loader__', None) is not None:\n  File \"/usr/lib/python3.8/inspect.py\", line 737, in getmodule\n    file = getabsfile(object, _filename)\n  File \"/usr/lib/python3.8/inspect.py\", line 721, in getabsfile\n    return os.path.normcase(os.path.abspath(_filename))\n  File \"/usr/lib/python3.8/posixpath.py\", line 379, in abspath\n    cwd = os.getcwd()\nFileNotFoundError: [Errno 2] No such file or directory\n"
    },
    {
     "output_type": "error",
     "ename": "FileNotFoundError",
     "evalue": "[Errno 2] No such file or directory: '~/refined_data.pickle'",
     "traceback": [
      "\u001b[0;31m---------------------------------------------------------------------------\u001b[0m"
     ]
    }
   ],
   "source": [
    "import pickle\n",
    "with open('~/refined_data.pickle', 'wb') as out:\n",
    "    pickle.dump(temp, out)"
   ]
  },
  {
   "cell_type": "code",
   "execution_count": 8,
   "metadata": {},
   "outputs": [
    {
     "output_type": "execute_result",
     "data": {
      "text/plain": "array([[0.99839479, 0.50022425, 0.90879171],\n       [0.99806222, 0.63180215, 0.90842028],\n       [0.99730186, 0.73563294, 0.92860922],\n       [0.99668857, 0.7847938 , 0.94166728],\n       [0.99616711, 0.81388951, 0.94968848],\n       [0.99570264, 0.8341543 , 0.95483041],\n       [0.99528091, 0.84884518, 0.95896866],\n       [0.99488734, 0.86060007, 0.96227189],\n       [0.99451744, 0.86989785, 0.96463779],\n       [0.99418221, 0.87749845, 0.96634562],\n       [0.99384562, 0.88410245, 0.9685871 ],\n       [0.99352485, 0.8899316 , 0.9702682 ],\n       [0.99320754, 0.89499365, 0.97162673],\n       [0.99292416, 0.89927362, 0.97256313],\n       [0.99263469, 0.90316333, 0.97392074],\n       [0.99235808, 0.90673379, 0.9745871 ],\n       [0.99208393, 0.90990193, 0.97552811],\n       [0.99180893, 0.91298604, 0.97628664],\n       [0.99155778, 0.91551802, 0.97677143],\n       [0.99130277, 0.91804973, 0.97766544],\n       [0.99105347, 0.92028045, 0.97824147],\n       [0.99080332, 0.9225008 , 0.97907189],\n       [0.99055776, 0.92446669, 0.97957512],\n       [0.99032299, 0.92634809, 0.97983226],\n       [0.99009228, 0.92801679, 0.98058157],\n       [0.98985653, 0.92973522, 0.98085346],\n       [0.98961758, 0.93130948, 0.98133917],\n       [0.98938871, 0.93283341, 0.98175207],\n       [0.98916105, 0.93420329, 0.98220645],\n       [0.98893983, 0.93555975, 0.98261843],\n       [0.98871429, 0.93680802, 0.98276959],\n       [0.9884941 , 0.93805603, 0.98325346],\n       [0.98827183, 0.93920553, 0.98376313],\n       [0.98803767, 0.94029806, 0.98377327],\n       [0.98784798, 0.94132555, 0.98399908],\n       [0.98760698, 0.94237309, 0.98414839],\n       [0.9874192 , 0.94332443, 0.98440737],\n       [0.98719835, 0.94421284, 0.9849106 ],\n       [0.98698375, 0.94521973, 0.98526267],\n       [0.98676827, 0.9460264 , 0.98529677],\n       [0.98658062, 0.94686454, 0.985647  ],\n       [0.98634978, 0.94768099, 0.98585806],\n       [0.98614579, 0.94853117, 0.9861318 ],\n       [0.98592583, 0.94925662, 0.98631429],\n       [0.98572295, 0.95005478, 0.98647097],\n       [0.98549026, 0.95077987, 0.98663226],\n       [0.98531174, 0.9514522 , 0.98669032],\n       [0.98510441, 0.95205476, 0.98671429],\n       [0.98489778, 0.95278202, 0.98714194],\n       [0.98468546, 0.95336654, 0.98727189],\n       [0.98448292, 0.954044  , 0.98751982],\n       [0.9842476 , 0.9546627 , 0.98765991],\n       [0.98406188, 0.95525755, 0.98783502],\n       [0.98384163, 0.95580168, 0.98778894],\n       [0.98364523, 0.95639687, 0.98818065],\n       [0.98343215, 0.95689402, 0.98816866],\n       [0.98324134, 0.95744699, 0.98828295],\n       [0.98300681, 0.95797297, 0.98843779],\n       [0.98281602, 0.95849973, 0.98866544],\n       [0.98258016, 0.95900227, 0.98887373],\n       [0.98239248, 0.95949749, 0.98906267],\n       [0.98218012, 0.95992273, 0.98909585],\n       [0.98197004, 0.96044591, 0.9891659 ],\n       [0.98175094, 0.96086524, 0.98947281],\n       [0.98152917, 0.96132803, 0.98936682],\n       [0.98132733, 0.9618167 , 0.98954101],\n       [0.98110166, 0.96220293, 0.98981014],\n       [0.98090703, 0.96265769, 0.9895788 ],\n       [0.98068002, 0.96302793, 0.98997419],\n       [0.98045462, 0.96352241, 0.98983226],\n       [0.98023789, 0.96385528, 0.99011244],\n       [0.98004445, 0.96427238, 0.99017604],\n       [0.97980334, 0.96463336, 0.99052258],\n       [0.97960084, 0.96504957, 0.99033825],\n       [0.97935787, 0.96539679, 0.99060645],\n       [0.97913984, 0.96582231, 0.99050323],\n       [0.97890846, 0.96613436, 0.99068203],\n       [0.97869293, 0.96653944, 0.99075392],\n       [0.97843731, 0.96687451, 0.99084332],\n       [0.97824763, 0.96722456, 0.99107097],\n       [0.97800609, 0.96752414, 0.99110323],\n       [0.97775875, 0.96794521, 0.99130046],\n       [0.97754202, 0.96819541, 0.99127373],\n       [0.9772839 , 0.9686155 , 0.99158618],\n       [0.97706409, 0.96885836, 0.99148756],\n       [0.976843  , 0.96921319, 0.99152903],\n       [0.97658578, 0.96949484, 0.99175576],\n       [0.97634907, 0.96985635, 0.99158065],\n       [0.97610874, 0.97010411, 0.99184516],\n       [0.97586525, 0.97046068, 0.99207926],\n       [0.97558491, 0.97074568, 0.99197235],\n       [0.97536565, 0.97105989, 0.99196406],\n       [0.97508568, 0.97133203, 0.99219908],\n       [0.97484664, 0.97165703, 0.99224332],\n       [0.97460485, 0.97187497, 0.9922    ],\n       [0.97435393, 0.97220165, 0.99242396],\n       [0.97411427, 0.97246189, 0.99252535],\n       [0.97383061, 0.97275239, 0.9925576 ],\n       [0.97357793, 0.9730206 , 0.9926    ],\n       [0.97329842, 0.97329504, 0.99263134]])"
     },
     "metadata": {},
     "execution_count": 8
    }
   ],
   "source": [
    "temp"
   ]
  },
  {
   "cell_type": "code",
   "execution_count": 9,
   "metadata": {
    "tags": []
   },
   "outputs": [
    {
     "output_type": "stream",
     "name": "stdout",
     "text": "sh: 0: getcwd() failed: No such file or directory\n\n"
    }
   ],
   "source": [
    "!pwd"
   ]
  },
  {
   "cell_type": "code",
   "execution_count": 11,
   "metadata": {
    "tags": []
   },
   "outputs": [
    {
     "output_type": "stream",
     "name": "stdout",
     "text": "sh: 0: getcwd() failed: No such file or directory\n"
    }
   ],
   "source": [
    "!ls"
   ]
  },
  {
   "cell_type": "code",
   "execution_count": null,
   "metadata": {},
   "outputs": [],
   "source": []
  }
 ]
}