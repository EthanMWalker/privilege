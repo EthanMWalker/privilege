{
 "metadata": {
  "language_info": {
   "codemirror_mode": {
    "name": "ipython",
    "version": 3
   },
   "file_extension": ".py",
   "mimetype": "text/x-python",
   "name": "python",
   "nbconvert_exporter": "python",
   "pygments_lexer": "ipython3",
   "version": "3.8.2-final"
  },
  "orig_nbformat": 2,
  "kernelspec": {
   "name": "python_defaultSpec_1599077680317",
   "display_name": "Python 3.8.2 64-bit"
  }
 },
 "nbformat": 4,
 "nbformat_minor": 2,
 "cells": [
  {
   "cell_type": "code",
   "execution_count": 1,
   "metadata": {},
   "outputs": [],
   "source": [
    "import numpy as np"
   ]
  },
  {
   "cell_type": "code",
   "execution_count": 12,
   "metadata": {},
   "outputs": [],
   "source": [
    "def get_candidates(n):\n",
    "    candidates = np.zeros((n,3))\n",
    "\n",
    "    candidates[:,:2] = np.random.random((n,2))\n",
    "    return candidates\n",
    "\n",
    "def get_scores(candidates, bias):\n",
    "    candidates[:,2] = bias*candidates[:,0] + (1-bias)*candidates[:,1]\n",
    "    return candidates"
   ]
  },
  {
   "cell_type": "code",
   "execution_count": 38,
   "metadata": {},
   "outputs": [],
   "source": [
    "candidates = get_candidates(33824)\n",
    "candidates = get_scores(candidates,.9)\n",
    "bias_top = candidates[:,2].argsort()[-1085:]\n",
    "skill_top = candidates[:,0].argsort()[-1085:]"
   ]
  },
  {
   "cell_type": "code",
   "execution_count": 39,
   "metadata": {},
   "outputs": [
    {
     "output_type": "execute_result",
     "data": {
      "text/plain": "0.6138248847926268"
     },
     "metadata": {},
     "execution_count": 39
    }
   ],
   "source": [
    "len(np.intersect1d(bias_top,skill_top))/1085"
   ]
  },
  {
   "cell_type": "code",
   "execution_count": 40,
   "metadata": {},
   "outputs": [
    {
     "output_type": "execute_result",
     "data": {
      "text/plain": "array([[0.63471957, 0.43073625, 0.61432123],\n       [0.4617563 , 0.93901923, 0.50948259],\n       [0.92182524, 0.61678671, 0.89132139],\n       ...,\n       [0.948156  , 0.91838389, 0.94517879],\n       [0.13234316, 0.5235021 , 0.17145905],\n       [0.43095896, 0.99323795, 0.48718686]])"
     },
     "metadata": {},
     "execution_count": 40
    }
   ],
   "source": [
    "candidates[top]"
   ]
  },
  {
   "cell_type": "code",
   "execution_count": null,
   "metadata": {},
   "outputs": [],
   "source": []
  }
 ]
}